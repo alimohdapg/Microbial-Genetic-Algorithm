{
 "nbformat": 4,
 "nbformat_minor": 0,
 "metadata": {
  "colab": {
   "name": "Report_2.ipynb",
   "provenance": [],
   "collapsed_sections": []
  },
  "kernelspec": {
   "name": "python3",
   "display_name": "Python 3"
  },
  "language_info": {
   "name": "python"
  }
 },
 "cells": [
  {
   "cell_type": "code",
   "source": [
    "import numpy as np\n",
    "import matplotlib.pyplot as plt"
   ],
   "metadata": {
    "id": "0iF7ayMAYNhn"
   },
   "execution_count": 269,
   "outputs": []
  },
  {
   "cell_type": "code",
   "source": [
    "max_cost = 80\n",
    "# benefits and volumes must match length of genotypes (currently 40)\n",
    "benefits = np.array([5, 6, 1, 9, 2, 8, 4, 3, 7, 10, 1, 6, 7, 6, 1, 2, 4, 8, 9, 6, 13,\n",
    "                     11, 17, 10, 3, 8, 9, 10, 1, 6, 7, 6, 1, 2, 4, 7, 9, 2, 6, 3])\n",
    "costs = np.array([3, 2, 4, 5, 8, 9, 10, 1, 6, 7, 6, 1, 2, 4, 8, 9, 17, 10, 3, 5,\n",
    "                  8, 3, 1, 7, 2, 6, 8, 6, 2, 4, 3, 7, 9, 2, 6, 3, 4, 6, 5, 4])"
   ],
   "metadata": {
    "id": "XoiekOjx_ijX"
   },
   "execution_count": 270,
   "outputs": []
  },
  {
   "cell_type": "code",
   "source": [
    "def fitness_function(genotype):\n",
    "    benefit = []\n",
    "    cost = []\n",
    "    for i in range(len(genotype)):\n",
    "        benefit.append(genotype[i] * benefits[i])\n",
    "        cost.append(genotype[i] * costs[i])\n",
    "    if sum(cost) > max_cost:\n",
    "        return sum(benefit) / (sum(cost) - max_cost + 1)\n",
    "    return sum(benefit)"
   ],
   "metadata": {
    "id": "JZJPwpTkbgCz"
   },
   "execution_count": 271,
   "outputs": []
  },
  {
   "cell_type": "code",
   "source": [
    "def mutate(genotype, prob):\n",
    "    for i in range(len(genotype)):\n",
    "        if np.random.uniform(0, 1) < prob:\n",
    "            # flips gene (0 to 1 or 1 to 0)\n",
    "            genotype[i] ^= 1"
   ],
   "metadata": {
    "id": "lBPB7P7JXiY1"
   },
   "execution_count": 272,
   "outputs": []
  },
  {
   "cell_type": "code",
   "execution_count": 273,
   "metadata": {
    "id": "bXqFYzhhVlhq"
   },
   "outputs": [],
   "source": [
    "def crossover(w, l, prob):\n",
    "    for i in range(len(l)):\n",
    "        if np.random.uniform(0, 1) > prob:\n",
    "            l[i] = w[i]"
   ]
  },
  {
   "cell_type": "code",
   "source": [
    "def full_microbial_ga(mutation_prob, crossover_prob, generations, k):\n",
    "    num_genes = 40\n",
    "    num_individuals = 50\n",
    "    genotypes = np.zeros((num_individuals, num_genes), dtype=int)\n",
    "    # genotypes.shape[0] is equal to num_individuals\n",
    "    fitnesses = np.zeros(genotypes.shape[0])\n",
    "    max_fitnesses = []\n",
    "    curr_max_fitness = 0\n",
    "    for _ in range(generations):\n",
    "        g1_index = np.random.randint(0, num_individuals)\n",
    "        g1 = genotypes[g1_index]\n",
    "        g2_index = np.random.randint(g1_index + 1, g1_index + k) % genotypes.shape[0]\n",
    "        g2 = genotypes[g2_index]\n",
    "        if fitnesses[g1_index] >= fitnesses[g2_index]:\n",
    "            w = g1\n",
    "            l = g2\n",
    "            l_index = g2_index\n",
    "        else:\n",
    "            w = g2\n",
    "            l = g1\n",
    "            l_index = g1_index\n",
    "        crossover(w, l, crossover_prob)\n",
    "        mutate(l, mutation_prob)\n",
    "        genotypes[l_index] = l\n",
    "        l_fitness = fitness_function(l)\n",
    "        fitnesses[l_index] = l_fitness\n",
    "        # Instead of using max(fitnesses) which is a O(n) operation, the below code keeps\n",
    "        # track of the max fitness through comparison which is more computationally\n",
    "        # efficient with a complexity of O(1). This is possible since l_fitness is the\n",
    "        # only newly introduced fitness on each run.\n",
    "        if l_fitness > curr_max_fitness:\n",
    "            curr_max_fitness = l_fitness\n",
    "        max_fitnesses.append(curr_max_fitness)\n",
    "    return max_fitnesses"
   ],
   "metadata": {
    "id": "RPArPzqHAkCL"
   },
   "execution_count": 274,
   "outputs": []
  },
  {
   "cell_type": "code",
   "source": [
    "mutation_probs = [0.1, 0.2, 0.3, 0.4, 0.5, 0.6, 0.7, 0.8, 0.9, 1.0]\n",
    "crossover_prob = 0.5\n",
    "generations = 100000\n",
    "k = 3\n",
    "trials = 10\n",
    "\n",
    "for mutation_prob in mutation_probs:\n",
    "    list_max_fitnesses = []\n",
    "    for trial in range(trials):\n",
    "        max_fitnesses = full_microbial_ga(mutation_prob, crossover_prob, generations, k)\n",
    "        list_max_fitnesses.append(max_fitnesses)\n",
    "    max_fitnesses_means = np.empty(generations)\n",
    "    max_fitnesses_std = np.empty(generations)\n",
    "    for g in range(generations):\n",
    "        max_fitnesses_curr_g = [max_fitnesses[g] for max_fitnesses in list_max_fitnesses]\n",
    "        max_fitnesses_means[g] = np.mean(max_fitnesses_curr_g)\n",
    "        max_fitnesses_std[g] = np.std(max_fitnesses_curr_g) / np.sqrt(len(max_fitnesses_curr_g))\n",
    "    plt.plot(max_fitnesses_means, c='black')\n",
    "    plt.fill_between(range(generations), max_fitnesses_means - max_fitnesses_std,\n",
    "                     max_fitnesses_means + max_fitnesses_std, color='gray', alpha=.3)\n",
    "    plt.xlabel('Generations')\n",
    "    plt.ylabel('Max Fitness')\n",
    "    plt.title(f'Max Fitness over Generations, Mutation Probability {mutation_prob}')\n",
    "    plt.show()"
   ],
   "metadata": {
    "colab": {
     "base_uri": "https://localhost:8080/",
     "height": 1000
    },
    "id": "RVphSaeMaUNM",
    "outputId": "7da47a66-f581-4401-f383-02a84e864d39",
    "pycharm": {
     "name": "#%%\n",
     "is_executing": true
    }
   },
   "execution_count": null,
   "outputs": []
  },
  {
   "cell_type": "code",
   "execution_count": null,
   "outputs": [],
   "source": [
    "mutation_probs = [0.1, 0.2, 0.3, 0.4, 0.5, 0.6, 0.7, 0.8, 0.9, 1.0]\n",
    "crossover_prob = 0.5\n",
    "generations = 100\n",
    "k = 3\n",
    "trials = 10\n",
    "\n",
    "for mutation_prob in mutation_probs:\n",
    "    list_max_fitnesses = []\n",
    "    for trial in range(trials):\n",
    "        max_fitnesses = full_microbial_ga(mutation_prob, crossover_prob, generations, k)\n",
    "        list_max_fitnesses.append(max_fitnesses)\n",
    "    max_fitnesses_means = np.empty(generations)\n",
    "    max_fitnesses_std = np.empty(generations)\n",
    "    for g in range(generations):\n",
    "        max_fitnesses_curr_g = [max_fitnesses[g] for max_fitnesses in list_max_fitnesses]\n",
    "        max_fitnesses_means[g] = np.mean(max_fitnesses_curr_g)\n",
    "        max_fitnesses_std[g] = np.std(max_fitnesses_curr_g) / np.sqrt(len(max_fitnesses_curr_g))\n",
    "    plt.plot(max_fitnesses_means, label=mutation_prob)\n",
    "    plt.fill_between(range(generations), max_fitnesses_means - max_fitnesses_std,\n",
    "                     max_fitnesses_means + max_fitnesses_std, alpha=.3)\n",
    "    print(mutation_prob, max_fitnesses_means[99])\n",
    "plt.xlabel('Generations')\n",
    "plt.ylabel('Max Fitness')\n",
    "plt.title(f'Max Fitness over Generations')\n",
    "plt.legend(loc=\"best\")\n",
    "plt.show()"
   ],
   "metadata": {
    "collapsed": false,
    "pycharm": {
     "name": "#%%\n",
     "is_executing": true
    }
   }
  },
  {
   "cell_type": "code",
   "execution_count": null,
   "outputs": [],
   "source": [
    "mutation_probs = ['10%', '20%', '30%', '40%', '50%', '60%', '70%', '80%', '90%', '100%']\n",
    "# The max fitnesses at generation #100, printed out from the above code and added below\n",
    "final_max_fitnesses = [97.0, 112.5, 117.1, 112.4, 114.2, 112.0, 103.6, 110.1, 108.2, 107.5]\n",
    "colors = ['r', 'g', 'b', 'k', 'y']\n",
    "plt.bar(mutation_probs, final_max_fitnesses, color=colors)\n",
    "plt.xlabel('Mutation Probability')\n",
    "plt.ylabel('Fitness')\n",
    "plt.title('Max Fitness at Generation #100')\n",
    "plt.show()"
   ],
   "metadata": {
    "collapsed": false,
    "pycharm": {
     "name": "#%%\n",
     "is_executing": true
    }
   }
  }
 ]
}